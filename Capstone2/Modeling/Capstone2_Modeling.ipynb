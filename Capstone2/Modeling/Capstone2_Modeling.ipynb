{
 "cells": [
  {
   "cell_type": "markdown",
   "metadata": {},
   "source": [
    "### Load Data"
   ]
  },
  {
   "cell_type": "code",
   "execution_count": 298,
   "metadata": {},
   "outputs": [
    {
     "data": {
      "text/html": [
       "<div>\n",
       "<style scoped>\n",
       "    .dataframe tbody tr th:only-of-type {\n",
       "        vertical-align: middle;\n",
       "    }\n",
       "\n",
       "    .dataframe tbody tr th {\n",
       "        vertical-align: top;\n",
       "    }\n",
       "\n",
       "    .dataframe thead th {\n",
       "        text-align: right;\n",
       "    }\n",
       "</style>\n",
       "<table border=\"1\" class=\"dataframe\">\n",
       "  <thead>\n",
       "    <tr style=\"text-align: right;\">\n",
       "      <th></th>\n",
       "      <th>qid</th>\n",
       "      <th>question_text</th>\n",
       "      <th>target</th>\n",
       "    </tr>\n",
       "  </thead>\n",
       "  <tbody>\n",
       "    <tr>\n",
       "      <th>0</th>\n",
       "      <td>00002165364db923c7e6</td>\n",
       "      <td>How did Quebec nationalists see their province as a nation in the 1960s?</td>\n",
       "      <td>0</td>\n",
       "    </tr>\n",
       "    <tr>\n",
       "      <th>1</th>\n",
       "      <td>000032939017120e6e44</td>\n",
       "      <td>Do you have an adopted dog, how would you encourage people to adopt and not shop?</td>\n",
       "      <td>0</td>\n",
       "    </tr>\n",
       "    <tr>\n",
       "      <th>2</th>\n",
       "      <td>0000412ca6e4628ce2cf</td>\n",
       "      <td>Why does velocity affect time? Does velocity affect space geometry?</td>\n",
       "      <td>0</td>\n",
       "    </tr>\n",
       "    <tr>\n",
       "      <th>3</th>\n",
       "      <td>000042bf85aa498cd78e</td>\n",
       "      <td>How did Otto von Guericke used the Magdeburg hemispheres?</td>\n",
       "      <td>0</td>\n",
       "    </tr>\n",
       "    <tr>\n",
       "      <th>4</th>\n",
       "      <td>0000455dfa3e01eae3af</td>\n",
       "      <td>Can I convert montra helicon D to a mountain bike by just changing the tyres?</td>\n",
       "      <td>0</td>\n",
       "    </tr>\n",
       "  </tbody>\n",
       "</table>\n",
       "</div>"
      ],
      "text/plain": [
       "                    qid  \\\n",
       "0  00002165364db923c7e6   \n",
       "1  000032939017120e6e44   \n",
       "2  0000412ca6e4628ce2cf   \n",
       "3  000042bf85aa498cd78e   \n",
       "4  0000455dfa3e01eae3af   \n",
       "\n",
       "                                                                       question_text  \\\n",
       "0           How did Quebec nationalists see their province as a nation in the 1960s?   \n",
       "1  Do you have an adopted dog, how would you encourage people to adopt and not shop?   \n",
       "2                Why does velocity affect time? Does velocity affect space geometry?   \n",
       "3                          How did Otto von Guericke used the Magdeburg hemispheres?   \n",
       "4      Can I convert montra helicon D to a mountain bike by just changing the tyres?   \n",
       "\n",
       "   target  \n",
       "0       0  \n",
       "1       0  \n",
       "2       0  \n",
       "3       0  \n",
       "4       0  "
      ]
     },
     "execution_count": 298,
     "metadata": {},
     "output_type": "execute_result"
    }
   ],
   "source": [
    "df = pd.read_csv('/Users/KATMER/Desktop/github/Capstone Project 2/quora-insincere-questions-classification/train.csv')\n",
    "df.head()"
   ]
  },
  {
   "cell_type": "code",
   "execution_count": 299,
   "metadata": {},
   "outputs": [
    {
     "name": "stdout",
     "output_type": "stream",
     "text": [
      "<class 'pandas.core.frame.DataFrame'>\n",
      "RangeIndex: 1306122 entries, 0 to 1306121\n",
      "Data columns (total 3 columns):\n",
      "qid              1306122 non-null object\n",
      "question_text    1306122 non-null object\n",
      "target           1306122 non-null int64\n",
      "dtypes: int64(1), object(2)\n",
      "memory usage: 29.9+ MB\n"
     ]
    }
   ],
   "source": [
    "df.info()"
   ]
  },
  {
   "cell_type": "code",
   "execution_count": 300,
   "metadata": {},
   "outputs": [
    {
     "data": {
      "text/html": [
       "<div>\n",
       "<style scoped>\n",
       "    .dataframe tbody tr th:only-of-type {\n",
       "        vertical-align: middle;\n",
       "    }\n",
       "\n",
       "    .dataframe tbody tr th {\n",
       "        vertical-align: top;\n",
       "    }\n",
       "\n",
       "    .dataframe thead th {\n",
       "        text-align: right;\n",
       "    }\n",
       "</style>\n",
       "<table border=\"1\" class=\"dataframe\">\n",
       "  <thead>\n",
       "    <tr style=\"text-align: right;\">\n",
       "      <th></th>\n",
       "      <th>qid</th>\n",
       "      <th>question_text</th>\n",
       "      <th>target</th>\n",
       "    </tr>\n",
       "  </thead>\n",
       "  <tbody>\n",
       "    <tr>\n",
       "      <th>892402</th>\n",
       "      <td>aed543e352890f0c59eb</td>\n",
       "      <td>What are some awesome words to use in essays?</td>\n",
       "      <td>0</td>\n",
       "    </tr>\n",
       "    <tr>\n",
       "      <th>1255778</th>\n",
       "      <td>f618656db14a2201ec63</td>\n",
       "      <td>Where can I found English movie with subtitle in Korean character?</td>\n",
       "      <td>0</td>\n",
       "    </tr>\n",
       "    <tr>\n",
       "      <th>842967</th>\n",
       "      <td>a5367d2b4ffbb3820508</td>\n",
       "      <td>What are the fees for GRE classes?</td>\n",
       "      <td>0</td>\n",
       "    </tr>\n",
       "    <tr>\n",
       "      <th>103026</th>\n",
       "      <td>142c5e64202e11732dc2</td>\n",
       "      <td>What are some definitive books on Korean history, culture, and customs?</td>\n",
       "      <td>0</td>\n",
       "    </tr>\n",
       "    <tr>\n",
       "      <th>19571</th>\n",
       "      <td>03d522044d3386901c0e</td>\n",
       "      <td>What is the recipe to make grape jelly sausages?</td>\n",
       "      <td>0</td>\n",
       "    </tr>\n",
       "    <tr>\n",
       "      <th>...</th>\n",
       "      <td>...</td>\n",
       "      <td>...</td>\n",
       "      <td>...</td>\n",
       "    </tr>\n",
       "    <tr>\n",
       "      <th>1117489</th>\n",
       "      <td>dafc33960b768a631dc1</td>\n",
       "      <td>Do you want Family Guy to use the sociological imagination to explore the problems with its characters?</td>\n",
       "      <td>0</td>\n",
       "    </tr>\n",
       "    <tr>\n",
       "      <th>606011</th>\n",
       "      <td>76abb01bd5c8a08ab250</td>\n",
       "      <td>What are your views on financial domination and finslaves?</td>\n",
       "      <td>0</td>\n",
       "    </tr>\n",
       "    <tr>\n",
       "      <th>1119508</th>\n",
       "      <td>db628e01ddfd7414b49b</td>\n",
       "      <td>Have you got attracted to someone at your sister or brother 's wedding?</td>\n",
       "      <td>0</td>\n",
       "    </tr>\n",
       "    <tr>\n",
       "      <th>10907</th>\n",
       "      <td>022460f865d9505c26a1</td>\n",
       "      <td>What is the lifetime earning of My Smart support YouTube channel?</td>\n",
       "      <td>0</td>\n",
       "    </tr>\n",
       "    <tr>\n",
       "      <th>1123104</th>\n",
       "      <td>dc153758ea6939e487fc</td>\n",
       "      <td>What language did the non-Sinitic people speak prior to the Chinese expansion, which included the Baiyue, Baipu (白濮), Ba-Shu (巴蜀), and Dongyi (東夷)? Were Baiyue and Baipu the same people?</td>\n",
       "      <td>0</td>\n",
       "    </tr>\n",
       "  </tbody>\n",
       "</table>\n",
       "<p>5000 rows × 3 columns</p>\n",
       "</div>"
      ],
      "text/plain": [
       "                          qid  \\\n",
       "892402   aed543e352890f0c59eb   \n",
       "1255778  f618656db14a2201ec63   \n",
       "842967   a5367d2b4ffbb3820508   \n",
       "103026   142c5e64202e11732dc2   \n",
       "19571    03d522044d3386901c0e   \n",
       "...                       ...   \n",
       "1117489  dafc33960b768a631dc1   \n",
       "606011   76abb01bd5c8a08ab250   \n",
       "1119508  db628e01ddfd7414b49b   \n",
       "10907    022460f865d9505c26a1   \n",
       "1123104  dc153758ea6939e487fc   \n",
       "\n",
       "                                                                                                                                                                                      question_text  \\\n",
       "892402                                                                                                                                                What are some awesome words to use in essays?   \n",
       "1255778                                                                                                                          Where can I found English movie with subtitle in Korean character?   \n",
       "842967                                                                                                                                                           What are the fees for GRE classes?   \n",
       "103026                                                                                                                      What are some definitive books on Korean history, culture, and customs?   \n",
       "19571                                                                                                                                              What is the recipe to make grape jelly sausages?   \n",
       "...                                                                                                                                                                                             ...   \n",
       "1117489                                                                                     Do you want Family Guy to use the sociological imagination to explore the problems with its characters?   \n",
       "606011                                                                                                                                   What are your views on financial domination and finslaves?   \n",
       "1119508                                                                                                                     Have you got attracted to someone at your sister or brother 's wedding?   \n",
       "10907                                                                                                                             What is the lifetime earning of My Smart support YouTube channel?   \n",
       "1123104  What language did the non-Sinitic people speak prior to the Chinese expansion, which included the Baiyue, Baipu (白濮), Ba-Shu (巴蜀), and Dongyi (東夷)? Were Baiyue and Baipu the same people?   \n",
       "\n",
       "         target  \n",
       "892402        0  \n",
       "1255778       0  \n",
       "842967        0  \n",
       "103026        0  \n",
       "19571         0  \n",
       "...         ...  \n",
       "1117489       0  \n",
       "606011        0  \n",
       "1119508       0  \n",
       "10907         0  \n",
       "1123104       0  \n",
       "\n",
       "[5000 rows x 3 columns]"
      ]
     },
     "execution_count": 300,
     "metadata": {},
     "output_type": "execute_result"
    }
   ],
   "source": [
    "sincere_q = df.loc[df['target'] == 0]\n",
    "sincere_q = sincere_q.sample(n = 5000)\n",
    "sincere_q"
   ]
  },
  {
   "cell_type": "code",
   "execution_count": 301,
   "metadata": {},
   "outputs": [
    {
     "data": {
      "text/html": [
       "<div>\n",
       "<style scoped>\n",
       "    .dataframe tbody tr th:only-of-type {\n",
       "        vertical-align: middle;\n",
       "    }\n",
       "\n",
       "    .dataframe tbody tr th {\n",
       "        vertical-align: top;\n",
       "    }\n",
       "\n",
       "    .dataframe thead th {\n",
       "        text-align: right;\n",
       "    }\n",
       "</style>\n",
       "<table border=\"1\" class=\"dataframe\">\n",
       "  <thead>\n",
       "    <tr style=\"text-align: right;\">\n",
       "      <th></th>\n",
       "      <th>qid</th>\n",
       "      <th>question_text</th>\n",
       "      <th>target</th>\n",
       "    </tr>\n",
       "  </thead>\n",
       "  <tbody>\n",
       "    <tr>\n",
       "      <th>1099368</th>\n",
       "      <td>d773b8bcb9ca78ce0b8f</td>\n",
       "      <td>Do the newly revert Muslims disrespected the legacy of their parents who died as Christians?</td>\n",
       "      <td>1</td>\n",
       "    </tr>\n",
       "    <tr>\n",
       "      <th>825874</th>\n",
       "      <td>a1d94d0699f5bca67fc9</td>\n",
       "      <td>What is the integral of [math] \\int x^{操你妈} dx [/math]? [Translation, per commenters: “[math]操你妈[/math]”=“F**k your mother”]</td>\n",
       "      <td>1</td>\n",
       "    </tr>\n",
       "    <tr>\n",
       "      <th>688915</th>\n",
       "      <td>86f0145de0fb85c217c3</td>\n",
       "      <td>Why is Quora filled with inane questions?</td>\n",
       "      <td>1</td>\n",
       "    </tr>\n",
       "    <tr>\n",
       "      <th>1014799</th>\n",
       "      <td>c6dc58030910e73e1a5c</td>\n",
       "      <td>Are you gay if you get both ears pierced?</td>\n",
       "      <td>1</td>\n",
       "    </tr>\n",
       "    <tr>\n",
       "      <th>741262</th>\n",
       "      <td>912cae5137ee7fe0c16a</td>\n",
       "      <td>Why aren't females’ big breasts and flat stomachs classified and labeled as a disability?</td>\n",
       "      <td>1</td>\n",
       "    </tr>\n",
       "    <tr>\n",
       "      <th>...</th>\n",
       "      <td>...</td>\n",
       "      <td>...</td>\n",
       "      <td>...</td>\n",
       "    </tr>\n",
       "    <tr>\n",
       "      <th>1034420</th>\n",
       "      <td>cab3337f357a816961a6</td>\n",
       "      <td>Why the hell do people hate Justin Bieber? Well haters I have a song for you, Jingle bells haters smells losers go away Justin's hot haters not beliebers all the way!</td>\n",
       "      <td>1</td>\n",
       "    </tr>\n",
       "    <tr>\n",
       "      <th>461835</th>\n",
       "      <td>5a713a9a49f170e0e2cf</td>\n",
       "      <td>What do you think will happen to Indian politics if Narendra Modi were to be assassinated this year?</td>\n",
       "      <td>1</td>\n",
       "    </tr>\n",
       "    <tr>\n",
       "      <th>773738</th>\n",
       "      <td>979177eafd0676b0bccb</td>\n",
       "      <td>Why do the Black not want to be called the Blacks?</td>\n",
       "      <td>1</td>\n",
       "    </tr>\n",
       "    <tr>\n",
       "      <th>654408</th>\n",
       "      <td>802f31b7d5f7acaa8287</td>\n",
       "      <td>Is Obama violating the Logan Act by trying to undermine Trump overseas?</td>\n",
       "      <td>1</td>\n",
       "    </tr>\n",
       "    <tr>\n",
       "      <th>165106</th>\n",
       "      <td>2044bfa57f308b375872</td>\n",
       "      <td>As per the FBI indictment, why are the Antifa also supporting Trump?</td>\n",
       "      <td>1</td>\n",
       "    </tr>\n",
       "  </tbody>\n",
       "</table>\n",
       "<p>5000 rows × 3 columns</p>\n",
       "</div>"
      ],
      "text/plain": [
       "                          qid  \\\n",
       "1099368  d773b8bcb9ca78ce0b8f   \n",
       "825874   a1d94d0699f5bca67fc9   \n",
       "688915   86f0145de0fb85c217c3   \n",
       "1014799  c6dc58030910e73e1a5c   \n",
       "741262   912cae5137ee7fe0c16a   \n",
       "...                       ...   \n",
       "1034420  cab3337f357a816961a6   \n",
       "461835   5a713a9a49f170e0e2cf   \n",
       "773738   979177eafd0676b0bccb   \n",
       "654408   802f31b7d5f7acaa8287   \n",
       "165106   2044bfa57f308b375872   \n",
       "\n",
       "                                                                                                                                                                  question_text  \\\n",
       "1099368                                                                            Do the newly revert Muslims disrespected the legacy of their parents who died as Christians?   \n",
       "825874                                             What is the integral of [math] \\int x^{操你妈} dx [/math]? [Translation, per commenters: “[math]操你妈[/math]”=“F**k your mother”]   \n",
       "688915                                                                                                                                Why is Quora filled with inane questions?   \n",
       "1014799                                                                                                                               Are you gay if you get both ears pierced?   \n",
       "741262                                                                                Why aren't females’ big breasts and flat stomachs classified and labeled as a disability?   \n",
       "...                                                                                                                                                                         ...   \n",
       "1034420  Why the hell do people hate Justin Bieber? Well haters I have a song for you, Jingle bells haters smells losers go away Justin's hot haters not beliebers all the way!   \n",
       "461835                                                                     What do you think will happen to Indian politics if Narendra Modi were to be assassinated this year?   \n",
       "773738                                                                                                                       Why do the Black not want to be called the Blacks?   \n",
       "654408                                                                                                  Is Obama violating the Logan Act by trying to undermine Trump overseas?   \n",
       "165106                                                                                                     As per the FBI indictment, why are the Antifa also supporting Trump?   \n",
       "\n",
       "         target  \n",
       "1099368       1  \n",
       "825874        1  \n",
       "688915        1  \n",
       "1014799       1  \n",
       "741262        1  \n",
       "...         ...  \n",
       "1034420       1  \n",
       "461835        1  \n",
       "773738        1  \n",
       "654408        1  \n",
       "165106        1  \n",
       "\n",
       "[5000 rows x 3 columns]"
      ]
     },
     "execution_count": 301,
     "metadata": {},
     "output_type": "execute_result"
    }
   ],
   "source": [
    "insincere_q = df.loc[df['target'] == 1]\n",
    "insincere_q = insincere_q.sample(n = 5000)\n",
    "insincere_q"
   ]
  },
  {
   "cell_type": "code",
   "execution_count": 302,
   "metadata": {},
   "outputs": [],
   "source": [
    "df = sincere_q.append(insincere_q)"
   ]
  },
  {
   "cell_type": "code",
   "execution_count": 303,
   "metadata": {},
   "outputs": [
    {
     "data": {
      "text/html": [
       "<div>\n",
       "<style scoped>\n",
       "    .dataframe tbody tr th:only-of-type {\n",
       "        vertical-align: middle;\n",
       "    }\n",
       "\n",
       "    .dataframe tbody tr th {\n",
       "        vertical-align: top;\n",
       "    }\n",
       "\n",
       "    .dataframe thead th {\n",
       "        text-align: right;\n",
       "    }\n",
       "</style>\n",
       "<table border=\"1\" class=\"dataframe\">\n",
       "  <thead>\n",
       "    <tr style=\"text-align: right;\">\n",
       "      <th></th>\n",
       "      <th>qid</th>\n",
       "      <th>question_text</th>\n",
       "      <th>target</th>\n",
       "    </tr>\n",
       "  </thead>\n",
       "  <tbody>\n",
       "    <tr>\n",
       "      <th>892402</th>\n",
       "      <td>aed543e352890f0c59eb</td>\n",
       "      <td>What are some awesome words to use in essays?</td>\n",
       "      <td>0</td>\n",
       "    </tr>\n",
       "    <tr>\n",
       "      <th>1255778</th>\n",
       "      <td>f618656db14a2201ec63</td>\n",
       "      <td>Where can I found English movie with subtitle in Korean character?</td>\n",
       "      <td>0</td>\n",
       "    </tr>\n",
       "    <tr>\n",
       "      <th>842967</th>\n",
       "      <td>a5367d2b4ffbb3820508</td>\n",
       "      <td>What are the fees for GRE classes?</td>\n",
       "      <td>0</td>\n",
       "    </tr>\n",
       "    <tr>\n",
       "      <th>103026</th>\n",
       "      <td>142c5e64202e11732dc2</td>\n",
       "      <td>What are some definitive books on Korean history, culture, and customs?</td>\n",
       "      <td>0</td>\n",
       "    </tr>\n",
       "    <tr>\n",
       "      <th>19571</th>\n",
       "      <td>03d522044d3386901c0e</td>\n",
       "      <td>What is the recipe to make grape jelly sausages?</td>\n",
       "      <td>0</td>\n",
       "    </tr>\n",
       "    <tr>\n",
       "      <th>...</th>\n",
       "      <td>...</td>\n",
       "      <td>...</td>\n",
       "      <td>...</td>\n",
       "    </tr>\n",
       "    <tr>\n",
       "      <th>1034420</th>\n",
       "      <td>cab3337f357a816961a6</td>\n",
       "      <td>Why the hell do people hate Justin Bieber? Well haters I have a song for you, Jingle bells haters smells losers go away Justin's hot haters not beliebers all the way!</td>\n",
       "      <td>1</td>\n",
       "    </tr>\n",
       "    <tr>\n",
       "      <th>461835</th>\n",
       "      <td>5a713a9a49f170e0e2cf</td>\n",
       "      <td>What do you think will happen to Indian politics if Narendra Modi were to be assassinated this year?</td>\n",
       "      <td>1</td>\n",
       "    </tr>\n",
       "    <tr>\n",
       "      <th>773738</th>\n",
       "      <td>979177eafd0676b0bccb</td>\n",
       "      <td>Why do the Black not want to be called the Blacks?</td>\n",
       "      <td>1</td>\n",
       "    </tr>\n",
       "    <tr>\n",
       "      <th>654408</th>\n",
       "      <td>802f31b7d5f7acaa8287</td>\n",
       "      <td>Is Obama violating the Logan Act by trying to undermine Trump overseas?</td>\n",
       "      <td>1</td>\n",
       "    </tr>\n",
       "    <tr>\n",
       "      <th>165106</th>\n",
       "      <td>2044bfa57f308b375872</td>\n",
       "      <td>As per the FBI indictment, why are the Antifa also supporting Trump?</td>\n",
       "      <td>1</td>\n",
       "    </tr>\n",
       "  </tbody>\n",
       "</table>\n",
       "<p>10000 rows × 3 columns</p>\n",
       "</div>"
      ],
      "text/plain": [
       "                          qid  \\\n",
       "892402   aed543e352890f0c59eb   \n",
       "1255778  f618656db14a2201ec63   \n",
       "842967   a5367d2b4ffbb3820508   \n",
       "103026   142c5e64202e11732dc2   \n",
       "19571    03d522044d3386901c0e   \n",
       "...                       ...   \n",
       "1034420  cab3337f357a816961a6   \n",
       "461835   5a713a9a49f170e0e2cf   \n",
       "773738   979177eafd0676b0bccb   \n",
       "654408   802f31b7d5f7acaa8287   \n",
       "165106   2044bfa57f308b375872   \n",
       "\n",
       "                                                                                                                                                                  question_text  \\\n",
       "892402                                                                                                                            What are some awesome words to use in essays?   \n",
       "1255778                                                                                                      Where can I found English movie with subtitle in Korean character?   \n",
       "842967                                                                                                                                       What are the fees for GRE classes?   \n",
       "103026                                                                                                  What are some definitive books on Korean history, culture, and customs?   \n",
       "19571                                                                                                                          What is the recipe to make grape jelly sausages?   \n",
       "...                                                                                                                                                                         ...   \n",
       "1034420  Why the hell do people hate Justin Bieber? Well haters I have a song for you, Jingle bells haters smells losers go away Justin's hot haters not beliebers all the way!   \n",
       "461835                                                                     What do you think will happen to Indian politics if Narendra Modi were to be assassinated this year?   \n",
       "773738                                                                                                                       Why do the Black not want to be called the Blacks?   \n",
       "654408                                                                                                  Is Obama violating the Logan Act by trying to undermine Trump overseas?   \n",
       "165106                                                                                                     As per the FBI indictment, why are the Antifa also supporting Trump?   \n",
       "\n",
       "         target  \n",
       "892402        0  \n",
       "1255778       0  \n",
       "842967        0  \n",
       "103026        0  \n",
       "19571         0  \n",
       "...         ...  \n",
       "1034420       1  \n",
       "461835        1  \n",
       "773738        1  \n",
       "654408        1  \n",
       "165106        1  \n",
       "\n",
       "[10000 rows x 3 columns]"
      ]
     },
     "execution_count": 303,
     "metadata": {},
     "output_type": "execute_result"
    }
   ],
   "source": [
    "df"
   ]
  },
  {
   "cell_type": "code",
   "execution_count": 304,
   "metadata": {},
   "outputs": [],
   "source": [
    "index_insincere_q = np.array(insincere_q.index)\n",
    "index_sincere_q = np.array(sincere_q.index)"
   ]
  },
  {
   "cell_type": "code",
   "execution_count": 305,
   "metadata": {},
   "outputs": [
    {
     "data": {
      "text/plain": [
       "((10000,), (10000,))"
      ]
     },
     "execution_count": 305,
     "metadata": {},
     "output_type": "execute_result"
    }
   ],
   "source": [
    "X = pd.concat([df['question_text'][index_insincere_q], df['question_text'][index_sincere_q]])\n",
    "y = pd.concat([df['target'][index_insincere_q], df['target'][index_sincere_q]])\n",
    "#X = df['question_text']\n",
    "#y = df['target']\n",
    "X.shape, y.shape"
   ]
  },
  {
   "cell_type": "markdown",
   "metadata": {},
   "source": [
    "### Train/Test Split"
   ]
  },
  {
   "cell_type": "code",
   "execution_count": 306,
   "metadata": {},
   "outputs": [
    {
     "data": {
      "text/plain": [
       "((8000,), (8000,), (2000,), (2000,))"
      ]
     },
     "execution_count": 306,
     "metadata": {},
     "output_type": "execute_result"
    }
   ],
   "source": [
    "from sklearn.model_selection import train_test_split\n",
    "X_train, X_valid, y_train, y_valid = train_test_split(X, y, test_size=.2, random_state=42, stratify=y)\n",
    "X_train.shape, y_train.shape, X_valid.shape, y_valid.shape"
   ]
  },
  {
   "cell_type": "markdown",
   "metadata": {},
   "source": [
    "### Preprocessing with NLTK"
   ]
  },
  {
   "cell_type": "code",
   "execution_count": 307,
   "metadata": {},
   "outputs": [],
   "source": [
    "import nltk\n",
    "from nltk.tokenize import word_tokenize\n",
    "from nltk.tokenize import sent_tokenize\n",
    "from nltk.corpus import stopwords\n",
    "from nltk.stem import WordNetLemmatizer\n",
    "from nltk.stem import PorterStemmer"
   ]
  },
  {
   "cell_type": "markdown",
   "metadata": {},
   "source": [
    "### Tokenizing\n",
    "Creation of a tokenize's function permitting to automatically tokenize our train and test set"
   ]
  },
  {
   "cell_type": "code",
   "execution_count": 308,
   "metadata": {},
   "outputs": [],
   "source": [
    "def tokenize(data):\n",
    "    tokenized_docs = [word_tokenize(doc.lower()) for doc in data]\n",
    "    alpha_tokens = [[t for t in doc if t.isalpha() == True] for doc in tokenized_docs]\n",
    "    stemmer = PorterStemmer ()\n",
    "    stemmed_tokens = [[stemmer.stem(alpha) for alpha in doc] for doc in alpha_tokens]\n",
    "    X_stem_as_string = [\" \".join(x_t) for x_t in stemmed_tokens]\n",
    "    return X_stem_as_string"
   ]
  },
  {
   "cell_type": "code",
   "execution_count": 309,
   "metadata": {},
   "outputs": [],
   "source": [
    "X_train_pr = tokenize(X_train)\n",
    "X_valid_pr = tokenize(X_valid)"
   ]
  },
  {
   "cell_type": "markdown",
   "metadata": {},
   "source": [
    "### Preprocessing pipeline"
   ]
  },
  {
   "cell_type": "code",
   "execution_count": 310,
   "metadata": {},
   "outputs": [],
   "source": [
    "from sklearn.feature_extraction.text import CountVectorizer, TfidfVectorizer\n",
    "from sklearn.decomposition import TruncatedSVD\n",
    "from sklearn.pipeline import Pipeline"
   ]
  },
  {
   "cell_type": "code",
   "execution_count": 311,
   "metadata": {},
   "outputs": [],
   "source": [
    "vct = CountVectorizer(stop_words='english', ngram_range=(2, 3), lowercase=False)\n",
    "svd = TruncatedSVD(n_components=100, random_state=42)\n",
    "tfvec = TfidfVectorizer(stop_words='english', lowercase=False)"
   ]
  },
  {
   "cell_type": "code",
   "execution_count": 312,
   "metadata": {},
   "outputs": [],
   "source": [
    "preprocessing_pipe = Pipeline([\n",
    "    ('vectorizer', tfvec),\n",
    "    ('svd', svd),\n",
    "])"
   ]
  },
  {
   "cell_type": "code",
   "execution_count": 313,
   "metadata": {},
   "outputs": [
    {
     "data": {
      "text/plain": [
       "(8000, 100)"
      ]
     },
     "execution_count": 313,
     "metadata": {},
     "output_type": "execute_result"
    }
   ],
   "source": [
    "lsa_train = preprocessing_pipe.fit_transform(X_train_pr)\n",
    "lsa_train.shape"
   ]
  },
  {
   "cell_type": "markdown",
   "metadata": {},
   "source": [
    "### MACHINE LEARNING MODELS\n",
    "Creation of a pipeline with prepocessing pipeline"
   ]
  },
  {
   "cell_type": "code",
   "execution_count": 314,
   "metadata": {},
   "outputs": [],
   "source": [
    "import xgboost as xgb\n",
    "from sklearn.ensemble import RandomForestClassifier\n",
    "from sklearn.model_selection import GridSearchCV, StratifiedKFold\n",
    "from sklearn.naive_bayes import MultinomialNB\n",
    "from sklearn.feature_extraction.text import TfidfVectorizer, CountVectorizer"
   ]
  },
  {
   "cell_type": "code",
   "execution_count": 315,
   "metadata": {},
   "outputs": [],
   "source": [
    "rf = RandomForestClassifier(class_weight='balanced_subsample')\n",
    "xgbc = xgb.XGBClassifier() \n",
    "mb = MultinomialNB()\n",
    "pipe = Pipeline([\n",
    "    ('vectorizer', tfvec),\n",
    "    ('mb', mb)\n",
    "])"
   ]
  },
  {
   "cell_type": "code",
   "execution_count": 316,
   "metadata": {},
   "outputs": [],
   "source": [
    "pipe.fit(X_train_pr, y_train)\n",
    "y_pred = pipe.predict(X_valid_pr)"
   ]
  },
  {
   "cell_type": "markdown",
   "metadata": {},
   "source": [
    "### Confusion Matrix"
   ]
  },
  {
   "cell_type": "code",
   "execution_count": 317,
   "metadata": {},
   "outputs": [],
   "source": [
    "from sklearn.metrics import confusion_matrix, classification_report"
   ]
  },
  {
   "cell_type": "code",
   "execution_count": 318,
   "metadata": {},
   "outputs": [
    {
     "data": {
      "text/plain": [
       "array([[715, 285],\n",
       "       [ 76, 924]])"
      ]
     },
     "execution_count": 318,
     "metadata": {},
     "output_type": "execute_result"
    }
   ],
   "source": [
    "cm = confusion_matrix(y_valid, y_pred)\n",
    "cm"
   ]
  },
  {
   "cell_type": "code",
   "execution_count": 319,
   "metadata": {},
   "outputs": [
    {
     "data": {
      "text/html": [
       "<div>\n",
       "<style scoped>\n",
       "    .dataframe tbody tr th:only-of-type {\n",
       "        vertical-align: middle;\n",
       "    }\n",
       "\n",
       "    .dataframe tbody tr th {\n",
       "        vertical-align: top;\n",
       "    }\n",
       "\n",
       "    .dataframe thead th {\n",
       "        text-align: right;\n",
       "    }\n",
       "</style>\n",
       "<table border=\"1\" class=\"dataframe\">\n",
       "  <thead>\n",
       "    <tr style=\"text-align: right;\">\n",
       "      <th></th>\n",
       "      <th>sincere</th>\n",
       "      <th>unsincere</th>\n",
       "    </tr>\n",
       "  </thead>\n",
       "  <tbody>\n",
       "    <tr>\n",
       "      <th>sincere</th>\n",
       "      <td>715</td>\n",
       "      <td>285</td>\n",
       "    </tr>\n",
       "    <tr>\n",
       "      <th>unsincere</th>\n",
       "      <td>76</td>\n",
       "      <td>924</td>\n",
       "    </tr>\n",
       "  </tbody>\n",
       "</table>\n",
       "</div>"
      ],
      "text/plain": [
       "           sincere  unsincere\n",
       "sincere        715        285\n",
       "unsincere       76        924"
      ]
     },
     "execution_count": 319,
     "metadata": {},
     "output_type": "execute_result"
    }
   ],
   "source": [
    "labels = ['sincere', 'unsincere']\n",
    "df_cm = pd.DataFrame(cm, columns=labels, index=labels)\n",
    "df_cm"
   ]
  },
  {
   "cell_type": "markdown",
   "metadata": {},
   "source": [
    "### Validation"
   ]
  },
  {
   "cell_type": "code",
   "execution_count": 320,
   "metadata": {},
   "outputs": [],
   "source": [
    "from sklearn.model_selection import cross_val_score"
   ]
  },
  {
   "cell_type": "code",
   "execution_count": 321,
   "metadata": {},
   "outputs": [
    {
     "data": {
      "text/plain": [
       "array([0.78185877, 0.76663961, 0.8060148 , 0.74620428, 0.76185047])"
      ]
     },
     "execution_count": 321,
     "metadata": {},
     "output_type": "execute_result"
    }
   ],
   "source": [
    "score = cross_val_score(pipe, X_valid_pr, y=y_valid, cv=5, scoring='f1_macro')\n",
    "score"
   ]
  },
  {
   "cell_type": "code",
   "execution_count": 322,
   "metadata": {},
   "outputs": [
    {
     "name": "stdout",
     "output_type": "stream",
     "text": [
      "              precision    recall  f1-score   support\n",
      "\n",
      "           0       0.90      0.71      0.80      1000\n",
      "           1       0.76      0.92      0.84      1000\n",
      "\n",
      "    accuracy                           0.82      2000\n",
      "   macro avg       0.83      0.82      0.82      2000\n",
      "weighted avg       0.83      0.82      0.82      2000\n",
      "\n"
     ]
    }
   ],
   "source": [
    "print(classification_report(y_valid, y_pred))"
   ]
  },
  {
   "cell_type": "markdown",
   "metadata": {},
   "source": []
  },
  {
   "cell_type": "code",
   "execution_count": 323,
   "metadata": {},
   "outputs": [
    {
     "name": "stdout",
     "output_type": "stream",
     "text": [
      "(8000, 13480)\n",
      "(8000, 5000)\n",
      "Done creating Bag-of-Words\n"
     ]
    }
   ],
   "source": [
    "vectorizer = CountVectorizer()\n",
    "vectorizer2 = CountVectorizer(min_df=0.0001, max_df=0.999, max_features=5000, ngram_range=(1,2,)) \n",
    "bow_train = vectorizer.fit_transform(X_train) \n",
    "bow_train2 = vectorizer2.fit_transform(X_train) \n",
    "print(bow_train.shape)\n",
    "print(bow_train2.shape)\n",
    "bow_test = vectorizer.transform(X_valid)\n",
    "bow_test2 = vectorizer2.transform(X_valid)\n",
    "print(\"Done creating Bag-of-Words\")"
   ]
  },
  {
   "cell_type": "code",
   "execution_count": 324,
   "metadata": {},
   "outputs": [],
   "source": [
    "from sklearn.metrics import accuracy_score, f1_score\n",
    "from sklearn.linear_model import LogisticRegression\n",
    "from sklearn.tree import DecisionTreeClassifier\n",
    "from sklearn.ensemble import RandomForestClassifier, GradientBoostingClassifier, AdaBoostClassifier\n",
    "from sklearn import model_selection, preprocessing, metrics, ensemble, naive_bayes, linear_model\n",
    "from sklearn.manifold import TSNE"
   ]
  },
  {
   "cell_type": "markdown",
   "metadata": {},
   "source": [
    "### Logistic Regression"
   ]
  },
  {
   "cell_type": "code",
   "execution_count": 325,
   "metadata": {},
   "outputs": [
    {
     "name": "stdout",
     "output_type": "stream",
     "text": [
      "Results of logistic regression on full bag-of-words\n"
     ]
    },
    {
     "name": "stderr",
     "output_type": "stream",
     "text": [
      "/Users/KATMER/anaconda3/lib/python3.7/site-packages/sklearn/linear_model/logistic.py:432: FutureWarning: Default solver will be changed to 'lbfgs' in 0.22. Specify a solver to silence this warning.\n",
      "  FutureWarning)\n"
     ]
    },
    {
     "name": "stdout",
     "output_type": "stream",
     "text": [
      "Training accuracy: 99.33%, F1: 0.9933, %1: 50.02%\n",
      "Testing accuracy:  84.15%, F1: 0.8362, %1: 46.75%\n"
     ]
    }
   ],
   "source": [
    "print(f\"Results of logistic regression on full bag-of-words\")\n",
    "logistic = LogisticRegression(penalty=\"l1\", C=3.5) \n",
    "logistic.fit(bow_train, y_train) \n",
    "train_predictions = logistic.predict(bow_train)\n",
    "train_acc = accuracy_score(y_train, train_predictions)  #all_labels\n",
    "train_f1 = f1_score(y_train, train_predictions) \n",
    "print(f\"Training accuracy: {train_acc:.2%}, F1: {train_f1:.4f}, %1: {sum(train_predictions)/len(train_predictions):.2%}\") \n",
    "test_predictions = logistic.predict(bow_test)\n",
    "test_acc = accuracy_score(y_valid, test_predictions) \n",
    "test_f1 = f1_score(y_valid, test_predictions) \n",
    "print(f\"Testing accuracy:  {test_acc:.2%}, F1: {test_f1:.4f}, %1: {sum(test_predictions)/len(test_predictions):.2%}\")\n",
    "# Training accuracy: 99.42%, F1: 0.9943, %1: 50.02%\n",
    "# Testing accuracy:  84.25%, F1: 0.8357, %1: 45.85%"
   ]
  },
  {
   "cell_type": "markdown",
   "metadata": {},
   "source": [
    "### Decision Tree"
   ]
  },
  {
   "cell_type": "code",
   "execution_count": 326,
   "metadata": {},
   "outputs": [
    {
     "name": "stdout",
     "output_type": "stream",
     "text": [
      "Results of decision tree on full bag-of-words\n",
      "Training accuracy: 90.42%, F1: 0.8969, %1: 42.90%\n",
      "Testing accuracy:  74.45%, F1: 0.7194, %1: 41.05%\n"
     ]
    }
   ],
   "source": [
    "print(f\"Results of decision tree on full bag-of-words\")\n",
    "dtc = DecisionTreeClassifier(max_depth=30) \n",
    "dtc.fit(bow_train, y_train)\n",
    "train_predictions = dtc.predict(bow_train)\n",
    "train_acc = accuracy_score(y_train, train_predictions) \n",
    "train_f1 = f1_score(y_train, train_predictions) \n",
    "print(f\"Training accuracy: {train_acc:.2%}, F1: {train_f1:.4f}, %1: {sum(train_predictions)/len(train_predictions):.2%}\") \n",
    "test_predictions = dtc.predict(bow_test)\n",
    "test_acc = accuracy_score(y_valid, test_predictions) \n",
    "test_f1 = f1_score(y_valid, test_predictions) \n",
    "print(f\"Testing accuracy:  {test_acc:.2%}, F1: {test_f1:.4f}, %1: {sum(test_predictions)/len(test_predictions):.2%}\")"
   ]
  },
  {
   "cell_type": "markdown",
   "metadata": {},
   "source": [
    "### Random Forest"
   ]
  },
  {
   "cell_type": "code",
   "execution_count": 327,
   "metadata": {
    "scrolled": true
   },
   "outputs": [
    {
     "name": "stdout",
     "output_type": "stream",
     "text": [
      "Results of random forest on full bag-of-words\n",
      "Training accuracy: 79.47%, F1: 0.7827, %1: 44.45%\n",
      "Testing accuracy:  77.00%, F1: 0.7535, %1: 43.30%\n"
     ]
    }
   ],
   "source": [
    "print(f\"Results of random forest on full bag-of-words\")\n",
    "rfc = RandomForestClassifier(n_estimators=100, max_depth=3, class_weight='balanced') \n",
    "rfc.fit(bow_train, y_train)\n",
    "train_predictions = rfc.predict(bow_train)\n",
    "train_acc = accuracy_score(y_train, train_predictions) \n",
    "train_f1 = f1_score(y_train, train_predictions) \n",
    "print(f\"Training accuracy: {train_acc:.2%}, F1: {train_f1:.4f}, %1: {sum(train_predictions)/len(train_predictions):.2%}\") \n",
    "test_predictions = rfc.predict(bow_test)\n",
    "test_acc = accuracy_score(y_valid, test_predictions) \n",
    "test_f1 = f1_score(y_valid, test_predictions) \n",
    "print(f\"Testing accuracy:  {test_acc:.2%}, F1: {test_f1:.4f}, %1: {sum(test_predictions)/len(test_predictions):.2%}\")"
   ]
  },
  {
   "cell_type": "markdown",
   "metadata": {},
   "source": [
    "### Gradient Boosting"
   ]
  },
  {
   "cell_type": "code",
   "execution_count": 328,
   "metadata": {},
   "outputs": [
    {
     "name": "stdout",
     "output_type": "stream",
     "text": [
      "Results of gradient boosting on full bag-of-words\n",
      "Training accuracy: 81.41%, F1: 0.8082, %1: 46.89%\n",
      "Testing accuracy:  78.55%, F1: 0.7746, %1: 45.15%\n"
     ]
    }
   ],
   "source": [
    "print(f\"Results of gradient boosting on full bag-of-words\")\n",
    "gbc = GradientBoostingClassifier() \n",
    "gbc.fit(bow_train, y_train) \n",
    "train_predictions = gbc.predict(bow_train)\n",
    "train_acc = accuracy_score(y_train, train_predictions) \n",
    "train_f1 = f1_score(y_train, train_predictions) \n",
    "print(f\"Training accuracy: {train_acc:.2%}, F1: {train_f1:.4f}, %1: {sum(train_predictions)/len(train_predictions):.2%}\") \n",
    "test_predictions = gbc.predict(bow_test)\n",
    "test_acc = accuracy_score(y_valid, test_predictions) \n",
    "test_f1 = f1_score(y_valid, test_predictions) \n",
    "print(f\"Testing accuracy:  {test_acc:.2%}, F1: {test_f1:.4f}, %1: {sum(test_predictions)/len(test_predictions):.2%}\")"
   ]
  },
  {
   "cell_type": "markdown",
   "metadata": {},
   "source": [
    "### Conclusion"
   ]
  },
  {
   "cell_type": "markdown",
   "metadata": {},
   "source": [
    "1. In general Logistic regression has the best accuracy for prediction.\n",
    "2. Training accuracy is always higher than test accuracy, which can be improved with more data."
   ]
  },
  {
   "cell_type": "markdown",
   "metadata": {},
   "source": [
    "### Next Steps"
   ]
  },
  {
   "cell_type": "markdown",
   "metadata": {},
   "source": [
    "1. Apply dimmensionality reduction on texts to see if accuracies can be further improved.\n",
    "2. Apply pre-trained model for embedding.\n",
    "3. Using more data to improve test accuracies."
   ]
  }
 ],
 "metadata": {
  "kernelspec": {
   "display_name": "Python 3",
   "language": "python",
   "name": "python3"
  },
  "language_info": {
   "codemirror_mode": {
    "name": "ipython",
    "version": 3
   },
   "file_extension": ".py",
   "mimetype": "text/x-python",
   "name": "python",
   "nbconvert_exporter": "python",
   "pygments_lexer": "ipython3",
   "version": "3.7.5"
  }
 },
 "nbformat": 4,
 "nbformat_minor": 2
}
